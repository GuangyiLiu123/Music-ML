{
  "nbformat": 4,
  "nbformat_minor": 0,
  "metadata": {
    "colab": {
      "name": "PolygenceMusic.ipynb",
      "provenance": [],
      "collapsed_sections": []
    },
    "kernelspec": {
      "name": "python3",
      "display_name": "Python 3"
    },
    "language_info": {
      "name": "python"
    }
  },
  "cells": [
    {
      "cell_type": "code",
      "execution_count": null,
      "metadata": {
        "id": "h20WfOE6Z4gI"
      },
      "outputs": [],
      "source": [
        "import librosa\n",
        "import pandas as pd\n",
        "import numpy as np\n",
        "import matplotlib.pyplot as plt\n",
        "%matplotlib inline\n",
        "import os\n",
        "from PIL import Image\n",
        "import pathlib\n",
        "import csv \n",
        "from sklearn.model_selection import train_test_split\n",
        "from sklearn.preprocessing import LabelEncoder, StandardScaler\n",
        "import keras\n",
        "from keras import layers\n",
        "from keras import layers\n",
        "import keras\n",
        "from keras.models  import Sequential\n",
        "import warnings\n",
        "warnings.filterwarnings('ignore')"
      ]
    },
    {
      "cell_type": "code",
      "source": [
        "genres = 'Hayden Mozart Scarlatti'.split()\n",
        "dataset_name = 'composers_dataset.csv'"
      ],
      "metadata": {
        "id": "6_-1a1cyBszP"
      },
      "execution_count": null,
      "outputs": []
    },
    {
      "cell_type": "code",
      "source": [
        "cmap = plt.get_cmap('inferno')\n",
        "plt.figure(figsize=(8,8))\n",
        "for g in genres:\n",
        "    img_folder = f'./pgdata/img_data/{g}'\n",
        "    pathlib.Path(img_folder).mkdir(parents=True, exist_ok=True)\n",
        "    for filename in os.listdir(f'./pgdata/pieces/{g}'):\n",
        "        songname = f'./pgdata/pieces/{g}/{filename}'\n",
        "        print(songname)\n",
        "        y, sr = librosa.load(songname, mono=True, duration=30)\n",
        "        plt.specgram(y, NFFT=2048, Fs=2, Fc=0, noverlap=128, cmap=cmap, sides='default', mode='default', scale='dB');\n",
        "        plt.axis('off');\n",
        "        plt.savefig(f'{img_folder}/{filename[:-3].replace(\".\", \"\")}.png')\n",
        "        plt.clf()"
      ],
      "metadata": {
        "id": "V9jRoAOPckE_"
      },
      "execution_count": null,
      "outputs": []
    },
    {
      "cell_type": "code",
      "source": [
        "header = 'filename chroma_stft rmse spectral_centroid spectral_bandwidth rolloff zero_crossing_rate'\n",
        "for i in range(1, 21):\n",
        "    header += f' mfcc{i}'\n",
        "header += ' label'\n",
        "header = header.split()\n",
        "header"
      ],
      "metadata": {
        "id": "wDn1Z82_DM7z"
      },
      "execution_count": null,
      "outputs": []
    },
    {
      "cell_type": "code",
      "source": [
        "file = open(f'./pgdata/{dataset_name}', 'w', newline='')\n",
        "with file:\n",
        "    writer = csv.writer(file)\n",
        "    writer.writerow(header)\n",
        "for g in genres:\n",
        "    for filename in os.listdir(f'./pgdata/pieces/{g}'):\n",
        "        songname = f'./pgdata/pieces/{g}/{filename}'\n",
        "        y, sr = librosa.load(songname, mono=True, duration=30)\n",
        "        rmse = librosa.feature.rms(y=y)\n",
        "        chroma_stft = librosa.feature.chroma_stft(y=y, sr=sr)\n",
        "        spec_cent = librosa.feature.spectral_centroid(y=y, sr=sr)\n",
        "        spec_bw = librosa.feature.spectral_bandwidth(y=y, sr=sr)\n",
        "        rolloff = librosa.feature.spectral_rolloff(y=y, sr=sr)\n",
        "        zcr = librosa.feature.zero_crossing_rate(y)\n",
        "        mfcc = librosa.feature.mfcc(y=y, sr=sr)\n",
        "        to_append = []\n",
        "        to_append.append(filename)\n",
        "        to_append.append(f'{np.mean(chroma_stft)}')\n",
        "        to_append.append(f'{np.mean(rmse)}')\n",
        "        to_append.append(f'{np.mean(spec_cent)}')\n",
        "        to_append.append(f'{np.mean(spec_bw)}')\n",
        "        to_append.append(f'{np.mean(rolloff)}')\n",
        "        to_append.append(f'{np.mean(zcr)}')\n",
        "        for e in mfcc:\n",
        "            to_append.append(f'{np.mean(e)}')\n",
        "        to_append.append(g)\n",
        "        file = open(f'./pgdata/{dataset_name}', 'a', newline='')\n",
        "        with file:\n",
        "            writer = csv.writer(file)\n",
        "            writer.writerow(to_append)"
      ],
      "metadata": {
        "id": "inGzEpgiDnnP"
      },
      "execution_count": null,
      "outputs": []
    },
    {
      "cell_type": "code",
      "source": [
        "data = pd.read_csv(f'./pgdata/{dataset_name}')\n",
        "data.head()\n",
        "# Dropping unneccesary columns\n",
        "data = data.drop(['filename'],axis=1)\n",
        "#Encoding the Labels\n",
        "genre_list = data.iloc[:, -1]\n",
        "encoder = LabelEncoder()\n",
        "y = encoder.fit_transform(genre_list)\n",
        "#Scaling the Feature columns\n",
        "scaler = StandardScaler()\n",
        "X = scaler.fit_transform(np.array(data.iloc[:, :-1], dtype = float))\n",
        "#Dividing data into training and Testing set\n",
        "X_train, X_test, y_train, y_test = train_test_split(X, y, test_size=0.2)"
      ],
      "metadata": {
        "id": "5JRisj5hKaOP"
      },
      "execution_count": null,
      "outputs": []
    },
    {
      "cell_type": "code",
      "source": [
        "model = Sequential()\n",
        "model.add(layers.Dense(256, activation='relu', input_shape=(X_train.shape[1],)))\n",
        "model.add(layers.Dense(128, activation='relu'))\n",
        "model.add(layers.Dense(64, activation='relu'))\n",
        "model.add(layers.Dense(10, activation='softmax'))\n",
        "model.compile(optimizer='adam',\n",
        "              loss='sparse_categorical_crossentropy',\n",
        "              metrics=['accuracy'])"
      ],
      "metadata": {
        "id": "P5Xly6FTLFpS"
      },
      "execution_count": null,
      "outputs": []
    },
    {
      "cell_type": "code",
      "source": [
        "classifier = model.fit(X_train,\n",
        "                       y_train,\n",
        "                       epochs=100,\n",
        "                       batch_size=1)\n",
        "model.save('./pgdata/composers_model')\n",
        "model.evaluate(X_test, y_test)"
      ],
      "metadata": {
        "id": "6aO0mDljLQO8"
      },
      "execution_count": null,
      "outputs": []
    }
  ]
}